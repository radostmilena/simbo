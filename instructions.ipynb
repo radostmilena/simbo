{
 "cells": [
  {
   "cell_type": "markdown",
   "id": "fiscal-palestinian",
   "metadata": {},
   "source": [
    "<br>\n",
    "<h1 style=\"text-align:center;color:darkblue\">Modeling of the Boltzmann distribution - A computer lab</h1> "
   ]
  },
  {
   "cell_type": "markdown",
   "id": "canadian-alias",
   "metadata": {},
   "source": [
    "<p style=\"text-align:center;\">Algorithm based on the original <i>Simbo</i> program written by Alexander Lyubartsev</p>"
   ]
  },
  {
   "cell_type": "markdown",
   "id": "progressive-enzyme",
   "metadata": {},
   "source": [
    "<h2 style=\"text-align: justify;  line-height: 1.6; color:royalblue\"> How to use this Notebook</h2>\n",
    "\n",
    "<p style=\"text-align: justify;  line-height: 1.6;\">Jupyter Notebooks are an interactive interface for Python 3 that allow you to execute code snippets in so-called cells. All executable cells will be highlighted in grey and have 'In   [..]' on the left side of it. Executing it means it will run the code written in that cell; you can do this by clicking on the cell and pressing <b>Ctrl+Enter</b>. For example, we need to import some helpful libraries, so just execute the cell below.</p>"
   ]
  },
  {
   "cell_type": "code",
   "execution_count": null,
   "id": "pleased-desire",
   "metadata": {},
   "outputs": [],
   "source": [
    "import numpy as np\n",
    "import matplotlib.pyplot as plt\n",
    "from matplotlib.animation import FuncAnimation\n",
    "import simbo_class as sc"
   ]
  },
  {
   "cell_type": "markdown",
   "id": "paperback-january",
   "metadata": {},
   "source": [
    "<p style=\"text-align: justify;  line-height: 1.6;\">On the left of the cell it should now say 'In [1]', which means this is the first cell that has been executed. The code to run simulations is packaged in a module called <i>simbo_class</i>, which is imported by the last line in the previous cell. So now that we executed the cell and imported the module into our notebook, we have all the functionalities we need to run a simulation. </p>\n",
    "\n",
    "<h3 style=\"text-align: justify;  line-height: 1.6; color:royalblue\">Initial input</h3>\n",
    "\n",
    "<p style=\"text-align: justify;  line-height: 1.6;\">You will have the option to change the number of molecules (<i>number_of_molecules</i>), the average energy <span style=\"color:dodgerblue\">per molecule</span> in reduced units (<i>average_energy</i>) and the spacing of the energy levels $\\tilde\\nu$ (<i>nu</i>) in each simulation. The default value for $\\tilde\\nu$ is $500 \\; \\mathrm{cm}^{-1}$, which corresponds to $9.95 \\cdot 10^{-21} \\; \\mathrm{J}$ or $5.99 \\; \\mathrm{kJ / {mol}}$ or $0.0622 \\; \\mathrm{eV}$, a typical value for a vibrating molecule.\n",
    "    Most exercises will ask you to only change the number of molecules, but there will be one where you will have to change the spacing of the energy levels. You can change parameters by simply clicking on the cell and editing it. For example, the cell below is missing the number of molecules. Set the number to three and execute the cell as you did before.</p>"
   ]
  },
  {
   "cell_type": "code",
   "execution_count": null,
   "id": "incident-aquarium",
   "metadata": {},
   "outputs": [],
   "source": [
    "number_of_molecules = 3\n",
    "average_energy = 2 \n",
    "nu = 500\n",
    "\n",
    "rs = sc.run_simbo(average_energy, number_of_molecules, nu)"
   ]
  },
  {
   "cell_type": "markdown",
   "id": "approved-configuration",
   "metadata": {},
   "source": [
    "<h3 style=\"text-align: justify;  line-height: 1.6; color:royalblue\">Generating the intial state</h3>\n",
    "\n",
    "<p style=\"text-align: justify;  line-height: 1.6;\">Now we need to generate an initial state with the molecules in their energy levels. You can let <i>simbo_class</i> generate this state automatically, in which case <i>simbo_class</i> will randomly assign every molecule an energy value between 0 and $2*E_{av}$ ($E_{av}$ is the <i>average_energy</i> you specified in the cell before and it is recommended to only use the default value). It will then assign each molecule a number corresponding to the level this molecule is in.</p>"
   ]
  },
  {
   "cell_type": "code",
   "execution_count": null,
   "id": "rapid-equality",
   "metadata": {},
   "outputs": [],
   "source": [
    "levels = sc.run_simbo.generate_levels(rs)\n",
    "print('levels = %s' %(levels))"
   ]
  },
  {
   "cell_type": "markdown",
   "id": "polyphonic-technician",
   "metadata": {},
   "source": [
    "<h3 style=\"text-align: justify;  line-height: 1.6; color:royalblue\">Running a simulation</h3>\n",
    "\n",
    "<p style=\"text-align: justify;  line-height: 1.6;\">Ok, let's run the simulation! By default, there will be $20*N$ equilibration steps ($N$ being the number of molecules) before it starts to store the data. This is because the intial state is generated randomly, so very often it will result in a microstate with very low probability. Since we want to look at the system in equilibrium, we need to let it perform a couple of energy exchanges first.  </p>"
   ]
  },
  {
   "cell_type": "code",
   "execution_count": null,
   "id": "efficient-configuration",
   "metadata": {},
   "outputs": [],
   "source": [
    "nstot = 200*number_of_molecules\n",
    "\n",
    "(dist_sum, all_levels, all_distr, all_dist_sum, all_uav, all_wbolt, all_sw, all_sa, all_temp, max_level, \n",
    "     max_dist, max_distr_sum) = sc.run_simbo.run(rs, levels, nstot)"
   ]
  },
  {
   "cell_type": "markdown",
   "id": "portuguese-technology",
   "metadata": {},
   "source": [
    "<p style=\"text-align: justify;  line-height: 1.6;\">You may see an asterisk (*) appearing in  the square brackets next to the cell, that simply means it is still running the code. Once a number appears, the simulation will be done and all the data generated by it is stored.</p>\n",
    "    \n",
    "<h3 style=\"text-align: justify;  line-height: 1.6; color:royalblue\">Visualizing the results</h3>    \n",
    "<p style=\"text-align: justify;  line-height: 1.6;\">You can look at your simulation data by running the next cell, which will show an animation of you three graphs and a couple of values. \n",
    "<ul>\n",
    "<li style=\"text-align: justify;  line-height: 1.6;\">The first graph on the top left is an animation of the energy levels, it shows which molecule occupies which energy level at a certain time step. Note that the animation will not start at step 0 because of the equilibration. </li>\n",
    "\n",
    "<li style=\"text-align: justify;  line-height: 1.6;\">The second graph on the top right is an animation of the distribution of levels, i.e. it shows how many molecules are in a certain energy level at a certain time step. As with the first graph, it will only start after equilibration. </li>\n",
    "\n",
    "<li style=\"text-align: justify;  line-height: 1.6;\">The third graph on the bottom left is an animation of the average distribution of levels, so it shows how many molecules have been in this energy level on average so far. For this, the simulation will accumulate the data of the previous graph and average it over time, so the number of accumulated steps is counted here (which is exactly the current step minus the number of equilibration steps). Note that this distribution shows the average number of molecules in the given state. In order to get the probability distribution over the energy levels, one divides this function by the number of molecules, $N$.</li>\n",
    "</ul>\n",
    "\n",
    "</p>\n",
    "\n",
    "<p style=\"text-align: justify;  line-height: 1.6;\">The animation will also display some thermodynamic data on the bottom right. Here, you can choose if you want this data to be in default or in reduced units by setting the keyword <i>units</i> to either 'default' or 'reduced' (don't forget the quotation marks here or it will not work). Reduced units will have the energy set to units of $h c \\tilde\\nu$, while the entropy is in units of $k_B$ per molecule and temperature in units of $h c \\tilde\\nu / k_B$. The default units will have the energies in $\\mathrm{J}$, the entropy in $\\mathrm{ J / mol \\; K}$ and temperature in $\\mathrm{K}$. </p>\n",
    "\n",
    "<h3 style=\"text-align: justify;  line-height: 1.6; color:royalblue\">Controls</h3>\n",
    "<p style=\"text-align: justify;  line-height: 1.6;\">The graphs may take a second or two to start being updated, so just have a little patience here. You can stop the animation at any point using the blue 'on/off' button on the top right, but if you run it again, it will then restart form the beginning. You can also decrease or increase the speed of the animation by setting <i>time_per_step</i> to a higher or lower value. It is set to 3000 now, so you can really see the changes in the energy levels of the molecules as they exchange energy in the first graph and how that translates to the distribution of energy levels in the second graph. In later tasks however, you may want to decrease <i>time_per_step</i> again, as simulations of a lot of molecules will take longer to be animated. By default, the animation will only display the first 50 steps of the simulation, but if you want to follow it for longer, you can increase the value of <i>len_tot</i> to anything up to $200*N$. However, when working on the tasks you will not have to follow the animation all the way through to get the final distribution, as most tasks will have a function that automatically saves a graph of the final step.</p>"
   ]
  },
  {
   "cell_type": "code",
   "execution_count": null,
   "id": "likely-company",
   "metadata": {},
   "outputs": [],
   "source": [
    "%matplotlib notebook\n",
    "\n",
    "time_per_step = 3000\n",
    "len_tot = 50\n",
    "units = 'default'\n",
    "\n",
    "plt.rc('axes', labelsize=11) \n",
    "fig, animation_frame, frames_no = sc.run_simbo.show(rs, all_levels[:len_tot], all_distr[:len_tot], \n",
    "                                          all_dist_sum[:len_tot],all_uav[:len_tot], all_wbolt[:len_tot], \n",
    "                                                    all_sw[:len_tot], all_sa[:len_tot], \n",
    "                                                    all_temp[:len_tot], units)\n",
    "animation = FuncAnimation(fig, animation_frame, frames=frames_no, interval=time_per_step, repeat=False)"
   ]
  },
  {
   "cell_type": "markdown",
   "id": "organized-crazy",
   "metadata": {},
   "source": [
    "<h3 style=\"text-align: justify;  line-height: 1.6; color:royalblue\">The Boltzmann distribution</h3>\n",
    "\n",
    "<p style=\"text-align: justify;  line-height: 1.6;\">The output from the averaged distribution allows us to calculate the temperature from a linear fit to the logarithm of the Boltzmann distribution as a function of the energy levels $n$</p>\n",
    "<p style=\"text-align:center; font-size:110%;\">$\\ln \\rho_n$ ~ $\\frac{n}{T}$</p>\n",
    "\n",
    "<p style=\"text-align: justify;  line-height: 1.6;\">where $\\rho_n$ is the distribution from the third graph divided by the total number of molecules in our system. The next cell will calculate the probability distribution $\\rho_n$ of the last step of the simulation and plot it as a function of the levels $n$ (graph on the right). On the left, it will plot the logarithm of $\\rho_n$ as a function of $n$ and the fit from which the temperature is obtained (details on how the fitting is done are found in the lab compendium). It will also display the calculated temperature in reduced and in default units. The Boltzmann distribution will then be calculated for this temperature and displayed as 'Fitted distribution' on the right. This way, you can check how accurately your simulation reproduces the Boltzmann distribution both from the quality of the fit for the temperature (left) and the matching of the fitted distribution to the actual probability distribution (right).</p>\n",
    "\n",
    "<p style=\"text-align: justify;  line-height: 1.6;\">Note: The graph on the right is cut off for probabilities $<0.005$ for clarity, so don't be surprised if the x axis of the two graphs does not show the same number of levels. The number of levels you see on the left for the logarithmic plot is the correct one, even though it might be lower in the other graph.</p>"
   ]
  },
  {
   "cell_type": "code",
   "execution_count": null,
   "id": "royal-inclusion",
   "metadata": {},
   "outputs": [],
   "source": [
    "%matplotlib notebook\n",
    "plt.rc('axes', labelsize=11) \n",
    "\n",
    "ex = sc.extra_functions(average_energy, number_of_molecules, nu)\n",
    "sc.extra_functions.plot_prob_temp(ex, dist_sum, max_level)"
   ]
  },
  {
   "cell_type": "markdown",
   "id": "c34d5614",
   "metadata": {},
   "source": [
    "<p style=\"text-align: justify;  line-height: 1.6;\">Ok, now that you are familiar with the simulation, switch to the second notebook (<i>tasks.ipynb</i>) and follow the instructions there.</p>"
   ]
  }
 ],
 "metadata": {
  "kernelspec": {
   "display_name": "Python 3",
   "language": "python",
   "name": "python3"
  },
  "language_info": {
   "codemirror_mode": {
    "name": "ipython",
    "version": 3
   },
   "file_extension": ".py",
   "mimetype": "text/x-python",
   "name": "python",
   "nbconvert_exporter": "python",
   "pygments_lexer": "ipython3",
   "version": "3.8.10"
  },
  "vscode": {
   "interpreter": {
    "hash": "31f2aee4e71d21fbe5cf8b01ff0e069b9275f58929596ceb00d14d90e3e16cd6"
   }
  }
 },
 "nbformat": 4,
 "nbformat_minor": 5
}
