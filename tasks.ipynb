{
 "cells": [
  {
   "cell_type": "markdown",
   "id": "fiscal-palestinian",
   "metadata": {},
   "source": [
    "<br>\n",
    "<h1 style=\"text-align:center; color:darkblue\">Modeling of the Boltzmann distribution - A computer lab</h1> "
   ]
  },
  {
   "cell_type": "markdown",
   "id": "canadian-alias",
   "metadata": {},
   "source": [
    "<p style=\"text-align:center;\">Algorithm based on the original <i>Simbo</i> program written by Alexander Lyubartsev</p>"
   ]
  },
  {
   "cell_type": "markdown",
   "id": "146f576f",
   "metadata": {},
   "source": [
    "<h2 style=\"text-align: justify;  line-height: 1.6; color:royalblue\"> Startup</h2>\n",
    "\n",
    "<p style=\"text-align: justify;  line-height: 1.6;\">Import the code by executing the cell below. Make sure this cell is executed before you start working on the tasks; if you close the Notebook and reopen it, you will also have to rerun this cell.</p>"
   ]
  },
  {
   "cell_type": "code",
   "execution_count": 1,
   "id": "db8e52c3",
   "metadata": {},
   "outputs": [],
   "source": [
    "import numpy as np\n",
    "import matplotlib.pyplot as plt\n",
    "from matplotlib.animation import FuncAnimation\n",
    "import simbo_class as sc"
   ]
  },
  {
   "cell_type": "markdown",
   "id": "novel-country",
   "metadata": {},
   "source": [
    "<h2 style=\"text-align: justify;  line-height: 1.6; color:royalblue\"> Task 1 a)</h2>\n",
    "\n",
    "<p style=\"text-align: justify;  line-height: 1.6;\"> We will change the initial conditions a little and set the number of molecules to 2. You can set the number and execute the cell below as in the tutorial.</p>\n"
   ]
  },
  {
   "cell_type": "code",
   "execution_count": 2,
   "id": "f8000941",
   "metadata": {},
   "outputs": [],
   "source": [
    "number_of_molecules = 2\n",
    "average_energy = 2\n",
    "nu = 500\n",
    "\n",
    "rs = sc.run_simbo(average_energy, number_of_molecules, nu)"
   ]
  },
  {
   "cell_type": "markdown",
   "id": "04148207",
   "metadata": {},
   "source": [
    "   <p style=\"text-align: justify;  line-height: 1.6;\">Now, instead of letting the program generate the levels automatically, we will assign our own levels. Since we only have two molecules, we assign two levels and we want the molecules to both be in state 1, so that the cell becomes</p>"
   ]
  },
  {
   "cell_type": "code",
   "execution_count": 3,
   "id": "160a305f",
   "metadata": {},
   "outputs": [],
   "source": [
    "levels = [1, 1] #this is to be changed in part b of the task"
   ]
  },
  {
   "cell_type": "markdown",
   "id": "c08a3f1d",
   "metadata": {},
   "source": [
    "   <p style=\"text-align: justify;  line-height: 1.6;\">Then we run the simulation as before (this might take a little longer this time)</p>"
   ]
  },
  {
   "cell_type": "code",
   "execution_count": 4,
   "id": "5fec6155",
   "metadata": {},
   "outputs": [],
   "source": [
    "nstot = 200*number_of_molecules\n",
    "\n",
    "(dist_sum, all_levels, all_distr, all_dist_sum, all_uav, all_wbolt, all_sw, all_sa, all_temp, \n",
    " max_level, max_dist, max_distr_sum) = sc.run_simbo.run(rs, levels, nstot)\n",
    "\n",
    "%matplotlib inline\n",
    "plt.rc('axes', labelsize=14) \n",
    "\n",
    "frames = 20\n",
    "units = 'default'\n",
    "sc.run_simbo.plot_frames(rs, all_levels[:frames]+[all_levels[-1]], \n",
    "                         all_distr[:frames]+[all_distr[-1]], \n",
    "                         all_dist_sum[:frames]+[all_dist_sum[-1]], all_uav[:frames]+[all_uav[-1]], \n",
    "                         all_wbolt[:frames]+[all_wbolt[-1]], all_sw[:frames]+[all_sw[-1]], \n",
    "                         all_sa[:frames]+[all_sa[-1]], all_temp[:frames]+[all_temp[-1]], units, \n",
    "                         frames)"
   ]
  },
  {
   "cell_type": "markdown",
   "id": "c8f7ccb2",
   "metadata": {},
   "source": [
    " <p style=\"text-align: justify;  line-height: 1.6;\"> and observe the changes in the graphs as in the tutorial (execute the cell below).  "
   ]
  },
  {
   "cell_type": "code",
   "execution_count": null,
   "id": "ab8f6308",
   "metadata": {},
   "outputs": [],
   "source": [
    "%matplotlib notebook\n",
    "%matplotlib notebook\n",
    "plt.rcParams['figure.dpi'] = 75\n",
    "\n",
    "time_per_step = 3000\n",
    "len_tot = 50\n",
    "units = 'default'\n",
    "\n",
    "plt.rc('axes', labelsize=11) \n",
    "fig, animation_frame, frames_no = sc.run_simbo.show(rs, all_levels[:len_tot], all_distr[:len_tot], \n",
    "                                          all_dist_sum[:len_tot],all_uav[:len_tot], \n",
    "                                                    all_wbolt[:len_tot], \n",
    "                                                    all_sw[:len_tot], all_sa[:len_tot], \n",
    "                                                    all_temp[:len_tot], units)\n",
    "animation = FuncAnimation(fig, animation_frame, frames=frames_no, interval=time_per_step, \n",
    "                          repeat=False)"
   ]
  },
  {
   "cell_type": "markdown",
   "id": "20d5f22a",
   "metadata": {},
   "source": [
    "The first 20 steps and the last step of the simulation will automatically be saved to the folder <i>task1_a</i> or <i>task1_b</i> respectively, depending on the levels that you have set. Using these graphs and your observations from the animation, write down all possible microstates and corresponding configurations. If you are unsure what the difference between the two is, consult the lab manual. Once you have all configurations, deduce the probability of each one and determine the average number of molecules in each state and compare this to the final distribution at the last step of the simulation. What do you notice? \n",
    "\n",
    "Have a look at the fitted Boltzmann distribution (this graph will also be saved to the respective folder).</p>"
   ]
  },
  {
   "cell_type": "code",
   "execution_count": null,
   "id": "7d62548a",
   "metadata": {},
   "outputs": [],
   "source": [
    "%matplotlib notebook\n",
    "plt.rcParams['figure.dpi'] = 75\n",
    "ex = sc.extra_functions(average_energy, number_of_molecules, nu)\n",
    "sc.extra_functions.plot_prob_temp(ex, dist_sum, max_level)\n",
    "\n",
    "if max_level > 3:\n",
    "    plt.savefig('task1_b/boltzmann_dist.png')\n",
    "else:\n",
    "    plt.savefig('task1_a/boltzmann_dist.png')"
   ]
  },
  {
   "cell_type": "markdown",
   "id": "2d23405e",
   "metadata": {},
   "source": [
    " <p style=\"text-align: justify;  line-height: 1.6;\">and try to explain what you see using the probablilities you deduced. Does the result agree with your expectations?</p>"
   ]
  },
  {
   "cell_type": "markdown",
   "id": "148a4303",
   "metadata": {},
   "source": [
    "<h2 style=\"text-align: justify;  line-height: 1.6; color:royalblue\"> Task 1 b)</h2>\n",
    "\n",
    "   <p style=\"text-align: justify;  line-height: 1.6;\"> We want to run the simulation again with the same parameters, but with both molecules in a higher state. Go through all the steps of Task 1 again, but this time you set <i>levels = [5, 5]</i>. Observe the statistical weight and the final distribution. Again, write down all possible microstates and corresponding configurations and deduce the probability of each configuration and average number of molecules. What do you observe?</p>\n",
    "   \n",
    "<h2 style=\"text-align: justify;  line-height: 1.6; color:royalblue\"> Task 1 c)</h2>\n",
    "\n",
    "   <p style=\"text-align: justify;  line-height: 1.6;\">You may also note that the temperature looks strange here. Why do you think that is? (Hint: Remember that the slope of the fit will correspond to $1/T$, where $T$ is calculated from the probability distribution in your simulation.)</p>\n",
    "   \n"
   ]
  },
  {
   "cell_type": "markdown",
   "id": "698376ff",
   "metadata": {},
   "source": [
    "<h2 style=\"text-align: justify;  line-height: 1.6; color:royalblue\"> Task 2</h2>\n",
    "\n",
    "<p style=\"text-align: justify;  line-height: 1.6;\">Run a simulation for 3 molecules with automatic generation of energy levels by executing the cell below. The first 10 steps and the last step of the simulation will automatically be saved, this time into the folder <i>task2</i>. </p>\n"
   ]
  },
  {
   "cell_type": "code",
   "execution_count": null,
   "id": "517548de",
   "metadata": {},
   "outputs": [],
   "source": [
    "number_of_molecules = 3\n",
    "average_energy = 2 \n",
    "nu = 500\n",
    "\n",
    "rs = sc.run_simbo(average_energy, number_of_molecules, nu)\n",
    "levels = sc.run_simbo.generate_levels(rs)\n",
    "\n",
    "nstot = 200*number_of_molecules\n",
    "\n",
    "(dist_sum, all_levels, all_distr, all_dist_sum, all_uav, all_wbolt, all_sw, all_sa, all_temp, \n",
    " max_level, max_dist, max_distr_sum) = sc.run_simbo.run(rs, levels, nstot)\n",
    "\n",
    "%matplotlib inline\n",
    "plt.rc('axes', labelsize=14) \n",
    "\n",
    "frames = 10\n",
    "units = 'default'\n",
    "sc.run_simbo.plot_frames(rs, all_levels[:frames]+[all_levels[-1]], \n",
    "                         all_distr[:frames]+[all_distr[-1]], \n",
    "                         all_dist_sum[:frames]+[all_dist_sum[-1]], all_uav[:frames]+[all_uav[-1]], \n",
    "                         all_wbolt[:frames]+[all_wbolt[-1]], all_sw[:frames]+[all_sw[-1]], \n",
    "                         all_sa[:frames]+[all_sa[-1]], all_temp[:frames]+[all_temp[-1]], \n",
    "                         units, frames)"
   ]
  },
  {
   "cell_type": "markdown",
   "id": "2b06dbc9",
   "metadata": {},
   "source": [
    "Visualize the results. What is the shape of the average distribution? "
   ]
  },
  {
   "cell_type": "code",
   "execution_count": null,
   "id": "502d564a",
   "metadata": {},
   "outputs": [],
   "source": [
    "%matplotlib notebook\n",
    "plt.rcParams['figure.dpi'] = 75\n",
    "\n",
    "time_per_step = 5000\n",
    "units = 'default'\n",
    "\n",
    "plt.rc('axes', labelsize=11) \n",
    "fig, animation_frame, frames_no = sc.run_simbo.show(rs, all_levels, all_distr, all_dist_sum, \n",
    "                                                    all_uav, all_wbolt, \n",
    "                                                    all_sw, all_sa, all_temp, units)\n",
    "animation = FuncAnimation(fig, animation_frame, frames=frames_no, interval=time_per_step, \n",
    "                          repeat=False)"
   ]
  },
  {
   "cell_type": "markdown",
   "id": "2bce6454",
   "metadata": {},
   "source": [
    "Analyze the statistical weight W for each of the possible configurations."
   ]
  },
  {
   "cell_type": "markdown",
   "id": "4083d4d0",
   "metadata": {},
   "source": [
    "<h2 style=\"text-align: justify;  line-height: 1.6; color:royalblue\"> Task 3 </h2>\n",
    "\n",
    "<p style=\"text-align: justify;  line-height: 1.6;\">Repeat the simulation a few times with a larger number of molecules, i.e. choose 3-4 values of $N$ in the range from 4 to 50 and run simulations for those (you will have to run both of the cells below one after the other for each new value of <i>number_of_molecules</i> that you set). </p>"
   ]
  },
  {
   "cell_type": "code",
   "execution_count": null,
   "id": "7524e605",
   "metadata": {},
   "outputs": [],
   "source": [
    "number_of_molecules = 50 # change number of molecules here\n",
    "average_energy = 2 \n",
    "nu = 500\n",
    "\n",
    "rs = sc.run_simbo(average_energy, number_of_molecules, nu)\n",
    "levels = sc.run_simbo.generate_levels(rs)\n",
    "\n",
    "nstot = 200*number_of_molecules\n",
    "\n",
    "(dist_sum, all_levels, all_distr, all_dist_sum, all_uav, all_wbolt, all_sw, all_sa, all_temp, \n",
    " max_level, max_dist, max_distr_sum) = sc.run_simbo.run(rs, levels, nstot)"
   ]
  },
  {
   "cell_type": "markdown",
   "id": "92fa1e43",
   "metadata": {},
   "source": [
    "<p style=\"text-align: justify;  line-height: 1.6;\"> Plot the probability distribution $\\rho_n$ together with the ideal Boltzmann distribution and the linear fit of the logarithmic distribution for each case (keep an eye on both the calculated temperature and the standard error). The resulting graphs will automatically be saved to the folder <i>task3</i>.</p>"
   ]
  },
  {
   "cell_type": "code",
   "execution_count": null,
   "id": "49c52de5",
   "metadata": {},
   "outputs": [],
   "source": [
    "%matplotlib notebook\n",
    "plt.rcParams['figure.dpi'] = 75\n",
    "ex = sc.extra_functions(average_energy, number_of_molecules, nu)\n",
    "sc.extra_functions.plot_prob_temp(ex, dist_sum, max_level)\n",
    "plt.savefig('task3/boltzmann_dist_%s_molecules.png' %(number_of_molecules)) "
   ]
  },
  {
   "cell_type": "markdown",
   "id": "5a85f828",
   "metadata": {},
   "source": [
    "<p style=\"text-align: justify;  line-height: 1.6;\"> Observe how the calculated distribution approaches to the Boltzmann distribution with the growth of $N$. Compare your calculated temperature for each run with the exact result for the vibrational energy in a macroscopic system as given by</p>\n",
    "\n",
    "<p style=\"text-align:center; font-size:110%;\">$E_{vib}/N =  1/(\\exp^{(1/T)}-1)$</p>\n",
    "\n",
    "in reduced units and\n",
    "\n",
    "<p style=\"text-align:center; font-size:110%;\">$E_{vib}/N = k_B \\theta_{vib}/(\\exp^{(\\theta_{vib}/T)}-1)$</p> <br>\n",
    "\n",
    "in default units, where $\\theta_{vib} = h c \\tilde\\nu / k_B$ is the vibrational temperature. You calculate the exact temperature using the default energy 2$h c \\tilde\\nu$, note that this corresponds to $E_{vib}/N$, not $E_{vib}$, so you don't have to divide by the number of particles. Because we are using the energy per particle, the exact temperature is the same for all your systems.\n",
    "\n",
    "Present the data in table form, i.e. the theoretical (exact) temperature together with your results from the simulations."
   ]
  },
  {
   "cell_type": "markdown",
   "id": "b9fc6351",
   "metadata": {},
   "source": [
    "<h2 style=\"text-align: justify;  line-height: 1.6; color:royalblue\"> Task 4</h2>\n",
    "\n",
    "<p style=\"text-align: justify;  line-height: 1.6;\">For a given diatomic gas (choose one from the table below) and a temperature of your choice, obtain the average populations of the energy levels. (Here you will have to change the spacing of the energy levels $\\tilde\\nu$ (<i>nu</i>) in the first cell.)</p>\n",
    "\n",
    "<p style=\"text-align: justify;  line-height: 1.6;\">Hints: You cannot enter temperature into the program directly. You can only set up an initial state of the parameter <i>average_energy</i> which you give to the simulation in the beginning (for which $E_{tot} = N*E_{av}$) and the temperature will be calculated as a result of the simulation. So either use method of trials and errors, or evaluate the required energy by the equations from Task 3. </p><br>\n",
    "  \n",
    "<table style=\"font-size:100%; width=70%\", align=\"center\">\n",
    "    <tr>\n",
    "    <th>Molecule</th>\n",
    "    <th>$\\tilde\\nu$ (cm$^{-1}$)</th>\n",
    "    </tr>  \n",
    "    <tr>\n",
    "    <td style=\"text-align:center\">O$_2$</td>\n",
    "    <td style=\"text-align:center\">1580</td>\n",
    "    </tr>\n",
    "    <tr>\n",
    "    <td style=\"text-align:center\">F$_2$</td>\n",
    "    <td style=\"text-align:center\">892</td>\n",
    "    </tr>\n",
    "    <tr>\n",
    "    <td style=\"text-align:center\">Cl$_2$</td>\n",
    "    <td style=\"text-align:center\">560</td>\n",
    "    </tr>\n",
    "    <tr>\n",
    "    <td style=\"text-align:center\">Br$_2$</td>\n",
    "    <td style=\"text-align:center\">465</td>\n",
    "    </tr>\n",
    "    <tr>\n",
    "    <td style=\"text-align:center\">HCl</td>\n",
    "    <td style=\"text-align:center\">2991</td>\n",
    "    </tr>\n",
    "</table>"
   ]
  },
  {
   "cell_type": "code",
   "execution_count": null,
   "id": "9627e398",
   "metadata": {},
   "outputs": [],
   "source": [
    "number_of_molecules = 25\n",
    "average_energy = 2\n",
    "nu = 500 #put your value of nu here\n",
    "\n",
    "rs = sc.run_simbo(average_energy, number_of_molecules, nu)\n",
    "levels = sc.run_simbo.generate_levels(rs)\n",
    "\n",
    "nstot = 200*number_of_molecules\n",
    "\n",
    "(dist_sum, all_levels, all_distr, all_dist_sum, all_uav, all_wbolt, all_sw, all_sa, all_temp, \n",
    " max_level, max_dist, max_distr_sum) = sc.run_simbo.run(rs, levels, nstot)"
   ]
  },
  {
   "cell_type": "markdown",
   "id": "90701271",
   "metadata": {},
   "source": [
    "Plot the Boltzmann distribution as well to check your temperature and fit. Your graphs will automatically be saved to the folder <i>task4</i>."
   ]
  },
  {
   "cell_type": "code",
   "execution_count": null,
   "id": "9e62628a",
   "metadata": {},
   "outputs": [],
   "source": [
    "%matplotlib notebook\n",
    "plt.rcParams['figure.dpi'] = 75\n",
    "ex = sc.extra_functions(average_energy, number_of_molecules, nu)\n",
    "sc.extra_functions.plot_prob_temp(ex, dist_sum, max_level)\n",
    "plt.savefig('task4/boltzmann_dist.png')"
   ]
  },
  {
   "cell_type": "markdown",
   "id": "0ce64094",
   "metadata": {},
   "source": [
    "<p style=\"text-align: justify;  line-height: 1.6;\"> Try to compare this simulation to a previous one where you used the same number of molecules. You can also rerun this one with different parameters, but be aware that running the second cell again overwrites your graphs in <i>task4</i>, so make sure you rename those or save them elsewhere before you rerun. \n",
    "    \n",
    "What differences/similarities do you see between simulations? How do the energy levels change when you have different initial parameters (spacing of levels $\\tilde\\nu$, <i>average_energy</i>, ...)? Remember that the graph on the right is cut in plotting, so comparing the number of energy levels can only be done from the graph on the left.</p>"
   ]
  },
  {
   "cell_type": "markdown",
   "id": "norwegian-bradford",
   "metadata": {},
   "source": [
    "<h2 style=\"text-align: justify;  line-height: 1.6; color:royalblue\">Task 5</h2>\n",
    "\n",
    "<b style=\"text-align: justify;  line-height: 1.6; color:dodgerblue\">Illustration of the second law of thermodynamics.</b>\n",
    "\n",
    "<p style=\"text-align: justify;  line-height: 1.6;\">We want to prepare an initial state for $N = 10$ molecules, and put the first molecule in a high energy state (for example, $n_1 = 12$) and other molecules in the ground state, so we set <i>levels = [12, 0, 0, 0, 0, 0, 0, 0, 0, 0]</i> in the cell below. </p>"
   ]
  },
  {
   "cell_type": "code",
   "execution_count": null,
   "id": "blocked-offer",
   "metadata": {},
   "outputs": [],
   "source": [
    "number_of_molecules = 10\n",
    "average_energy = 2 \n",
    "nu = 500\n",
    "\n",
    "rs = sc.run_simbo(average_energy, number_of_molecules, nu)\n",
    "levels = [12, 0, 0, 0, 0, 0, 0, 0, 0, 0]\n",
    "\n",
    "nstot = 200*number_of_molecules\n",
    "all_wbolt, all_sw = sc.run_simbo.run_eq(rs, levels, nstot)"
   ]
  },
  {
   "cell_type": "markdown",
   "id": "hollywood-gathering",
   "metadata": {},
   "source": [
    "<p> Now, this time we want to look at the system as it reaches equilibrium, so we only visualize the equilibration run. Let's plot the statistical weight $W$ and the Boltzmann entropy and see how do they change in the first steps of equilibration (this graph will automatically be saved to the folder <i>task5</i>).</p>"
   ]
  },
  {
   "cell_type": "code",
   "execution_count": null,
   "id": "collectible-sugar",
   "metadata": {},
   "outputs": [],
   "source": [
    "%matplotlib notebook\n",
    "neq = int(20*number_of_molecules*0.15)\n",
    "\n",
    "plt.rcParams['figure.dpi'] = 75\n",
    "sc.extra_functions.plot_eq(ex, all_wbolt[:neq], all_sw[:neq])\n",
    "plt.savefig('task5/equilibration.png')"
   ]
  },
  {
   "cell_type": "markdown",
   "id": "fe6c1892",
   "metadata": {},
   "source": [
    "What do you notice? Does it agree with the second law of thermodynamics?\n",
    "\n",
    "**Bonus**: Can you explain why we had to set one molecule to a higher level?"
   ]
  },
  {
   "cell_type": "markdown",
   "id": "listed-experience",
   "metadata": {},
   "source": [
    "<h2 style=\"text-align: justify;  line-height: 1.6; color:royalblue\"> Task 6 (optional)</h2>\n",
    "\n",
    "For some fixed values of $N < 50$, eg. $N = 10$ and average energy 2, try to prepare an initial state with\n",
    "\n",
    "- minimal possible entropy\n",
    "- maximal possible entropy.\n",
    "\n",
    "<p style=\"text-align: justify;  line-height: 1.6;\">The cell below takes both of these parameters as input and generates a random state. The statistical weight will be calculated as well as the Boltzmann distribution, for which you can choose units 'default' or 'reduced' as before. The graph will automatically be saved to the folder <i>task6</i>, but rerunning the cell will overwrite it again.</p>"
   ]
  },
  {
   "cell_type": "code",
   "execution_count": null,
   "id": "polished-galaxy",
   "metadata": {},
   "outputs": [],
   "source": [
    "%matplotlib notebook\n",
    "plt.rcParams['figure.dpi'] = 75\n",
    "\n",
    "number_of_molecules = 10\n",
    "average_energy = 2\n",
    "units = 'default'\n",
    "\n",
    "ex = sc.extra_functions(average_energy, number_of_molecules, nu)\n",
    "sc.extra_functions.get_w_sw(ex, average_energy, number_of_molecules, units)\n",
    "plt.savefig('task6/levels.png')"
   ]
  }
 ],
 "metadata": {
  "kernelspec": {
   "display_name": "Python 3",
   "language": "python",
   "name": "python3"
  },
  "language_info": {
   "codemirror_mode": {
    "name": "ipython",
    "version": 3
   },
   "file_extension": ".py",
   "mimetype": "text/x-python",
   "name": "python",
   "nbconvert_exporter": "python",
   "pygments_lexer": "ipython3",
   "version": "3.8.10"
  },
  "vscode": {
   "interpreter": {
    "hash": "916dbcbb3f70747c44a77c7bcd40155683ae19c65e1c03b4aa3499c5328201f1"
   }
  }
 },
 "nbformat": 4,
 "nbformat_minor": 5
}
