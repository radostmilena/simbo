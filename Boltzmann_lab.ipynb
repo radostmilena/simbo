{
 "cells": [
  {
   "cell_type": "markdown",
   "id": "fiscal-palestinian",
   "metadata": {},
   "source": [
    "<br>\n",
    "<h1 style=\"text-align:center;\">Modeling of the Boltzmann distribution - A computer lab</h1> "
   ]
  },
  {
   "cell_type": "markdown",
   "id": "canadian-alias",
   "metadata": {},
   "source": [
    "<p style=\"text-align:center;\">Algorithm based on the original <i>Simbo</i> program written by Alexander Lyubartsev</p>"
   ]
  },
  {
   "cell_type": "markdown",
   "id": "progressive-enzyme",
   "metadata": {},
   "source": [
    "<h4 style=\"font-size:150%;\">How to use this Notebook</h4>\n",
    "\n",
    "<p style=\"text-align: justify;  line-height: 1.6;\">Jupyter Notebooks are an interactive interface for Python 3 that allow you to execute code snippets in so-called cells. All executable cells will be highlighted in grey and have 'In   [..]' on the left side of it. Executing it means it will run the code written in that cell; you can do this by clicking on the cell and pressing Ctrl+Enter. For example, we need to import some helpful libraries, so just execute the cell below.</p>"
   ]
  },
  {
   "cell_type": "code",
   "execution_count": null,
   "id": "pleased-desire",
   "metadata": {},
   "outputs": [],
   "source": [
    "import numpy as np\n",
    "import matplotlib.pyplot as plt\n",
    "from matplotlib.animation import FuncAnimation\n",
    "import simbo_class as sc"
   ]
  },
  {
   "cell_type": "markdown",
   "id": "paperback-january",
   "metadata": {},
   "source": [
    "<p style=\"text-align: justify;  line-height: 1.6;\">On the left of the cell it should now say 'In [1]', which means this is the first cell that has been executed. The code to run simulations is packaged in a module called <i>simbo_class</i>, which is imported by the last line in the previous cell. So now that we executed the cell and imported the module into our notebook, we have all the functionalities we need to run a simulation. The following is a tutorial on how to do that; note that you have to do all of these steps in the order they are presented here for the simulation to run.</p>\n",
    "\n",
    "**Initial input**\n",
    "\n",
    "<p style=\"text-align: justify;  line-height: 1.6;\">You will have the option to change the number of molecules (<i>number_of_molecules</i>), the average energy of molecules in reduced units (<i>average_energy</i>) and the spacing of the energy levels $\\tilde\\nu$ (<i>nu</i>) in each simulation. Most exercises will ask you to only change the number of molecules, but there will be one where you will have to change the spacing of the energy levels. If you have set all your parameters, just execute the cell below as you did before.</p>"
   ]
  },
  {
   "cell_type": "code",
   "execution_count": null,
   "id": "incident-aquarium",
   "metadata": {},
   "outputs": [],
   "source": [
    "number_of_molecules = 3\n",
    "average_energy = 2 \n",
    "nu = 500\n",
    "\n",
    "rs = sc.run_simbo(average_energy, number_of_molecules, nu)"
   ]
  },
  {
   "cell_type": "markdown",
   "id": "approved-configuration",
   "metadata": {},
   "source": [
    "**Generating the intial state**\n",
    "\n",
    "<p style=\"text-align: justify;  line-height: 1.6;\">Now we need to generate an initial state with the molecules distributed over the energy levels. You can either let <i>simbo_class</i> generate this state automatically and just execute the next cell </p>"
   ]
  },
  {
   "cell_type": "code",
   "execution_count": null,
   "id": "rapid-equality",
   "metadata": {},
   "outputs": [],
   "source": [
    "levels = sc.run_simbo.generate_levels(rs)"
   ]
  },
  {
   "cell_type": "markdown",
   "id": "breathing-comparison",
   "metadata": {},
   "source": [
    "<p style=\"text-align: justify;  line-height: 1.6;\"> OR you can define this state yourself by removing the # sign at the beginning of the next cell and putting in your own values. If you keep the #, executing this line will simply do nothing. When choosing your own levels, remember that you should have the same number of values in the square bracket as you have molecules and that they should be separated by commas (eg. here, we have three values since the default number of molecules is three). Once you have done that, execute the cell as before.</p>"
   ]
  },
  {
   "cell_type": "code",
   "execution_count": null,
   "id": "statutory-barcelona",
   "metadata": {},
   "outputs": [],
   "source": [
    "#levels = [1, 1, 1]"
   ]
  },
  {
   "cell_type": "markdown",
   "id": "polyphonic-technician",
   "metadata": {},
   "source": [
    "**Running a simulation**\n",
    "\n",
    "<p style=\"text-align: justify;  line-height: 1.6;\">Ok, let's run the simulation! By default, there will be $20*N$ equilibration steps ($N$ being the number of molecules) before it starts to store the data. You can set the number of steps for data collection yourself by setting <i>nstot</i> to different values; here it is set to $200*N$, but you may want to change it later. </p>"
   ]
  },
  {
   "cell_type": "code",
   "execution_count": null,
   "id": "entire-onion",
   "metadata": {
    "scrolled": false
   },
   "outputs": [],
   "source": [
    "nstot = 200*number_of_molecules\n",
    "\n",
    "(dist_sum, all_levels, all_distr, all_dist_sum, all_uav, all_wbolt, all_sw, all_sa, all_temp, max_level, \n",
    "     max_dist, max_distr_sum) = sc.run_simbo.run(rs, levels, nstot)"
   ]
  },
  {
   "cell_type": "markdown",
   "id": "portuguese-technology",
   "metadata": {},
   "source": [
    "<p style=\"text-align: justify;  line-height: 1.6;\">You may see an asterisk (*) appearing in  the square brackets next to the cell,, thaht simply means it is still running the code. Once a number appears,  the simualtion will be done and all the data generated by it is stored in your RAM. You can look at it by running the next cell, which will show you three graphs and a couple of values. The first graph on the top left is an animation of the energy levels, it shows which molecule occupies which energy level at a certain time step. Note that the animation will not start at step 0 because of the equilibration. The second graph on the top right is an animation of the distribution of levels, i.e. it shows how many molecules are in a certain energy level at a certain time step. As with the first graph, it will only start after equilibration. The third graph on the bottom left is an animation of the average distribution of levels, so it shows how many molecules have been in this energy level on average so far. For this, the simulation will accumulate the data of the previous graph and average it over time and the number of accumulated steps is counted here (which is exactly the current step minus the number of equilibration steps). Note that this distribution shows the average number of molecules in the given state. In order to get the probability distribution over the energy levels, one must divide this function by the number of molecules, $N$.</p>\n",
    "\n",
    "<p style=\"text-align: justify;  line-height: 1.6;\">The animation will also display some thermodynamic data on the bottom right. Here, you can choose if you want this data to be in default (energies/entropies in kJ/mol, temperature in K) or in reduced units by setting <i>units</i> to either 'default' or 'reduced' (don't forget the quotation marks here or it will not work). You can also decrease the speed of the animation by setting <i>time_per_step</i> to a higher value. It is set to 2000 now, so you can really see the changes in the energy levels of the molecules as they exchange energy in the first graph and how that translates to the distribution of energy levels in the second graph. In later tasks however, you may want to decrease <i>time_per_step</i> again, as simulations of a lot of molecules will take longer to be animated (remember, each simulation runs for $200*N$ steps).</p>\n",
    "\n",
    "<p style=\"text-align: justify;  line-height: 1.6;\">Note: The graphs may take a second or two to start being updated and another second to snap to the surrounding frame, so just have a little patience here. The animation is also displayed in interactive mode, which means you can stop it at any time using the blue off button on the top right or take screenshots of the current step by pressing the save icon on the bottom right. The latter will take you to a separate tab where you can download the image as a PNG. Note that the animation will keep running while you are away from the notebook tab, so make sure to adjust the <i>time_per_step</i> accordingly to leave enough time for you to come back to it.</p>"
   ]
  },
  {
   "cell_type": "code",
   "execution_count": null,
   "id": "likely-company",
   "metadata": {},
   "outputs": [],
   "source": [
    "%matplotlib notebook\n",
    "\n",
    "time_per_step = 2000\n",
    "units = 'reduced'\n",
    "\n",
    "fig, animation_frame, frames_no = sc.run_simbo.show(rs, all_levels, all_distr, all_dist_sum, all_uav, all_wbolt, \n",
    "                                                    all_sw, all_sa, all_temp, units)\n",
    "animation = FuncAnimation(fig, animation_frame, frames=frames_no, interval=time_per_step, repeat=False)"
   ]
  },
  {
   "cell_type": "markdown",
   "id": "organized-crazy",
   "metadata": {},
   "source": [
    "**The Boltzmann distribution**\n",
    "\n",
    "<p style=\"text-align: justify;  line-height: 1.6;\">The output from the averaged distribution allows us to calculate the temperature from a linear fit to the logarithm of the Boltzmann distribution as a function of the energy levels $n$</p>\n",
    "<p style=\"text-align:center; font-size:110%;\">$\\ln \\rho_n$ ~ $\\frac{n}{T}$.</p>\n",
    "\n",
    "<p style=\"text-align: justify;  line-height: 1.6;\">The next cell will calculate the probability distribution $\\rho_n$ of the last step of the simulation and plot it as a function of the levels $n$, together with the ideal Boltzmann distribution. It will also plot the logarithm of $\\rho_n$ as a function of $n$ and the fit from which the temperature is obtained (details on how the fitting is done are found in the lab compendium). This serves more as a comparison of how well the simulated distribution reproduces the Boltzmann distribution, so you don't have to execute this every time you run a simulation.</p>\n",
    "\n",
    "Note: This is also in interactive mode, even though the data is not updating, so you can again save the graphs by clicking the save icon on the bottom right."
   ]
  },
  {
   "cell_type": "code",
   "execution_count": null,
   "id": "royal-inclusion",
   "metadata": {},
   "outputs": [],
   "source": [
    "%matplotlib notebook\n",
    "ex = sc.extra_functions(average_energy, number_of_molecules, nu)\n",
    "sc.extra_functions.plot_prob_temp(ex, dist_sum, max_level)"
   ]
  },
  {
   "cell_type": "markdown",
   "id": "novel-country",
   "metadata": {},
   "source": [
    "Ok, now that you are familiar with the notebook, it's time to run some simulations. \n",
    "\n",
    "**Task 1** \n",
    "\n",
    "<p style=\"text-align: justify;  line-height: 1.6;\">Go back to the cell below the heading <i>Initial input</i> and set the number of molecules to 2. Execute the cell and move on to <i>Generating the intial state</i>. Now, instead of using the automatic generation of levels, generate a state in which both molecules are in the first excited state, i.e. fill in [1, 1] for the parameter <i>levels</i>. Run the simulation as before and save a picture of the resulting distributions (you can decrease <i>time_per_step</i> slightly to speed up the animation). During the animation, observe how the statistical weight changes and try to write down all possible microstates and corresponding configurations. Deduce the probability of each configuration, and determine the average number of molecules in each state from that.</p>\n",
    "\n",
    "   <p style=\"text-align: justify;  line-height: 1.6;\">Run the simulation again with the same parameters, but with both molecules in a higher state, eg. levels = [5, 5]. Observe the statistical weight and at the end, take a picture of the final distribution. Again, write down all possible microstates and corresponding configurations and deduce the probability of each configuration and average number of molecules. What do you observe?</p>\n",
    "   \n",
    "   You may also note that the temperature looks strange here. Why do you think that is? (Hint: Try to plot the Boltzmann distribution and the corresponding fit. Remember that the slope of the fit will correspond to $1/T$.)\n",
    "   \n",
    "\n",
    "**Task 2** \n",
    "\n",
    "<p style=\"text-align: justify;  line-height: 1.6;\">Run a simulation for 3 molecules with automatic generation of energy levels. What is the shape of the average distribution? Can you explain the result? (Hint: Analyze the statistical weight W for each of the possible configurations).</p>\n",
    "\n",
    "**Task 3** \n",
    "\n",
    "<p style=\"text-align: justify;  line-height: 1.6;\">Repeat the simulation a few times with a larger number of molecules, i.e. choose 3-4 values of $N$ in the range from 4 to 50 and run simulations for those. Note that you might need a longer simulation for higher numbers of molecules. In each case, plot the probability distribution $\\rho_n$ together with the ideal Boltzmann distribution and the linear fit of the logarithmic distribution (Section <i>The Boltzmann distribution</i>). Observe how the calculated distribution approaches to the Boltzmann distribution with the growth of $N$. In each case, write down the average energy and calculated temperature. Compare with the exact result for the vibrational energy in a macroscopic system as given by</p>\n",
    "\n",
    "<p style=\"text-align:center; font-size:110%;\">$E_{vib}/N =  1/(\\exp^{(1/T)}-1)$</p>\n",
    "\n",
    "in reduced units and\n",
    "\n",
    "<p style=\"text-align:center; font-size:110%;\">$E_{vib}/N = k_B \\theta_{vib}/(\\exp^{(\\theta_{vib}/T)}-1)$</p> <br>\n",
    "\n",
    "in default units, where $\\theta_{vib} = h c \\tilde\\nu / k_B$ is the vibrational temperature. Present the data in table form.\n",
    "\n",
    "**Task 4**\n",
    "\n",
    "<p style=\"text-align: justify;  line-height: 1.6;\">For a given diatomic gas and given temperature (choose one from the table below), obtain the average populations of the energy levels.</p>\n",
    "\n",
    "<p style=\"text-align: justify;  line-height: 1.6;\">Hints: You cannot enter temperature into the program directly. You can only set up an initial state of the parameter <i>average_energy</i> which you give to the simulation in the beginning (for which $E_{tot} = N*E_{av}$) and the temperature will be calculated as a result of the simulation. So either use method of trials and errors, or evaluate the required energy by the equations from Task 3. </p><br>\n",
    "  \n",
    "<table style=\"font-size:100%; width=70%\", align=\"center\">\n",
    "    <tr>\n",
    "    <th>Molecule</th>\n",
    "    <th>$\\tilde\\nu$ (cm$^{-1}$)</th>\n",
    "    </tr>  \n",
    "    <tr>\n",
    "    <td style=\"text-align:center\">O$_2$</td>\n",
    "    <td style=\"text-align:center\">1580</td>\n",
    "    </tr>\n",
    "    <tr>\n",
    "    <td style=\"text-align:center\">F$_2$</td>\n",
    "    <td style=\"text-align:center\">892</td>\n",
    "    </tr>\n",
    "    <tr>\n",
    "    <td style=\"text-align:center\">Cl$_2$</td>\n",
    "    <td style=\"text-align:center\">560</td>\n",
    "    </tr>\n",
    "    <tr>\n",
    "    <td style=\"text-align:center\">Br$_2$</td>\n",
    "    <td style=\"text-align:center\">465</td>\n",
    "    </tr>\n",
    "    <tr>\n",
    "    <td style=\"text-align:center\">HCl</td>\n",
    "    <td style=\"text-align:center\">2991</td>\n",
    "    </tr>\n",
    "</table>"
   ]
  },
  {
   "cell_type": "markdown",
   "id": "norwegian-bradford",
   "metadata": {},
   "source": [
    "**Task 5**\n",
    "\n",
    "<p style=\"text-align: justify;  line-height: 1.6;\">Illustration of the second law of thermodynamics.</p>\n",
    "\n",
    "<p style=\"text-align: justify;  line-height: 1.6;\">Prepare an initial state for $N = 10$ molecules, and put the first molecule in a high energy state (for example, $n_1 = 12$), and other molecules in the ground state (go back to the manual generation of levels and put levels = [12, 0, 0, 0, 0, 0, 0, 0, 0, 0]). Look at the statistical weight $W$ and the Boltzmann entropy. How do they change? \n",
    "If you don't want to write down everything manually from the animation, you can use this extra function that will print both $W$ and $S$ for a specified interval (only within the accumulated steps, so you can not specify a start or and end that is larger than $200*N$). Again, you can select the units by setting <i>units</i> to 'default' or 'reduced' (remember the quotation marks).</p>"
   ]
  },
  {
   "cell_type": "code",
   "execution_count": null,
   "id": "indian-protein",
   "metadata": {},
   "outputs": [],
   "source": [
    "start = 0\n",
    "end = 10\n",
    "units = 'default'\n",
    "\n",
    "ex = sc.extra_functions(average_energy, number_of_molecules, nu)\n",
    "sc.extra_functions.print_w_sw(ex, all_wbolt, all_sw, start, end, units)"
   ]
  },
  {
   "cell_type": "markdown",
   "id": "listed-experience",
   "metadata": {},
   "source": [
    "**Task 6 (optional)**\n",
    "\n",
    "For some fixed values of $N$ and average energy, eg. $N = 10$ and average energy 2, try to prepare an initial state with\n",
    "\n",
    "- minimal possible entropy\n",
    "- maximal possible entropy.\n",
    "\n",
    "<p style=\"text-align: justify;  line-height: 1.6;\">The cell below takes both of these parameters as input and generates a random state. The statistical weight will be calculated as well as the Boltzmann distribution, for which you can choose units 'default' or 'reduced' as before. It will plot the energy levels of the molecules as well; you can take a picture like before using the save icon in the bottom right.</p>"
   ]
  },
  {
   "cell_type": "code",
   "execution_count": null,
   "id": "polished-galaxy",
   "metadata": {},
   "outputs": [],
   "source": [
    "%matplotlib notebook\n",
    "\n",
    "number_of_molecules = 10\n",
    "average_energy = 2\n",
    "units = 'default'\n",
    "\n",
    "ex = sc.extra_functions(average_energy, number_of_molecules, nu)\n",
    "sc.extra_functions.get_w_sw(ex, average_energy, number_of_molecules, units)"
   ]
  }
 ],
 "metadata": {
  "kernelspec": {
   "display_name": "Python 3",
   "language": "python",
   "name": "python3"
  },
  "language_info": {
   "codemirror_mode": {
    "name": "ipython",
    "version": 3
   },
   "file_extension": ".py",
   "mimetype": "text/x-python",
   "name": "python",
   "nbconvert_exporter": "python",
   "pygments_lexer": "ipython3",
   "version": "3.8.10"
  }
 },
 "nbformat": 4,
 "nbformat_minor": 5
}
